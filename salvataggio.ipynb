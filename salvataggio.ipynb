{
 "cells": [
  {
   "cell_type": "code",
   "execution_count": 1,
   "metadata": {
    "collapsed": false
   },
   "outputs": [
    {
     "name": "stdout",
     "output_type": "stream",
     "text": [
      "Done\n"
     ]
    }
   ],
   "source": [
    "from pynq import Overlay\n",
    "Overlay (\"audiovideo.bit\").download()\n",
    "\n",
    "import numpy as np\n",
    "\n",
    "from pynq.audio import LineIn\n",
    "from pynq.audio import Headphone\n",
    "headphone = Headphone()\n",
    "linein = LineIn()\n",
    "\n",
    "import time\n",
    "time_end = time.time() + 30\n",
    "audio = []\n",
    "while time.time() < time_end:\n",
    "    audio_sample = linein()\n",
    "    audio.append(audio_sample[0])\n",
    "    headphone(audio_sample)\n",
    "    \n",
    "np.save(\"audiorelax2.npy\", audio)\n",
    "print(\"Done\")"
   ]
  },
  {
   "cell_type": "code",
   "execution_count": null,
   "metadata": {
    "collapsed": true
   },
   "outputs": [],
   "source": []
  },
  {
   "cell_type": "code",
   "execution_count": null,
   "metadata": {
    "collapsed": true
   },
   "outputs": [],
   "source": []
  }
 ],
 "metadata": {
  "kernelspec": {
   "display_name": "Python 3",
   "language": "python",
   "name": "python3"
  },
  "language_info": {
   "codemirror_mode": {
    "name": "ipython",
    "version": 3
   },
   "file_extension": ".py",
   "mimetype": "text/x-python",
   "name": "python",
   "nbconvert_exporter": "python",
   "pygments_lexer": "ipython3",
   "version": "3.4.3+"
  }
 },
 "nbformat": 4,
 "nbformat_minor": 0
}
